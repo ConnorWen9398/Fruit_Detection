{
 "cells": [
  {
   "cell_type": "code",
   "execution_count": 6,
   "metadata": {
    "collapsed": true
   },
   "outputs": [],
   "source": [
    "import pandas as pd\n",
    "import xml.etree.ElementTree as ET\n",
    "import pickle\n",
    "import os\n",
    "from os import listdir, getcwd\n",
    "from os.path import join"
   ]
  },
  {
   "cell_type": "code",
   "execution_count": 7,
   "metadata": {
    "collapsed": true
   },
   "outputs": [],
   "source": [
    "def csv2txt(image_id,cnt):\n",
    "    dw = 1./308\n",
    "    dh = 1./202\n",
    "    out_file = open('/home/dale/桌面/apples/dataset/%s.txt'%(image_id), 'w')\n",
    "    \n",
    "    df = pd.read_csv('/home/dale/桌面/apples/annotations/%s.csv'%(image_id),index_col = '#item')\n",
    "    \n",
    "    labels = df['label'].values\n",
    "    labels[labels == 1] = 0\n",
    "    cx = df['c-x'].values\n",
    "    cy = df['c-y'].values\n",
    "    radius = df['radius'].values\n",
    "    \n",
    "    for index in range(len(labels)):\n",
    "    \n",
    "        \n",
    "        x = cx[index] * dw\n",
    "        y = cy[index] * dh\n",
    "            \n",
    "        width = 2 * radius[index] * dw\n",
    "        height = 2 * radius[index] * dh\n",
    "        \n",
    "        out_file.write(str(labels[index]) + \" \" + str(x) + \" \" + str(y) + \" \" + str(width) + \" \" +str(height) + '\\n')\n",
    "        cnt = cnt + 1\n",
    "        \n",
    "    return cnt\n",
    "    "
   ]
  },
  {
   "cell_type": "code",
   "execution_count": 8,
   "metadata": {
    "collapsed": true
   },
   "outputs": [],
   "source": [
    "image_ids = open('/home/dale/桌面/apples/sets/train.txt').read().strip().split()"
   ]
  },
  {
   "cell_type": "code",
   "execution_count": 9,
   "metadata": {
    "collapsed": true
   },
   "outputs": [],
   "source": [
    "cnt = 0\n",
    "if not os.path.exists('/home/dale/桌面/apples/datasettrain'):\n",
    "    os.makedirs('/home/dale/桌面/apples/datasettrain')\n",
    "for image_id in image_ids:\n",
    "    cnt = csv2txt(image_id,cnt)"
   ]
  },
  {
   "cell_type": "code",
   "execution_count": null,
   "metadata": {
    "collapsed": true
   },
   "outputs": [],
   "source": []
  }
 ],
 "metadata": {
  "kernelspec": {
   "display_name": "Python 3",
   "language": "python",
   "name": "python3"
  },
  "language_info": {
   "codemirror_mode": {
    "name": "ipython",
    "version": 3
   },
   "file_extension": ".py",
   "mimetype": "text/x-python",
   "name": "python",
   "nbconvert_exporter": "python",
   "pygments_lexer": "ipython3",
   "version": "3.6.3"
  }
 },
 "nbformat": 4,
 "nbformat_minor": 2
}
